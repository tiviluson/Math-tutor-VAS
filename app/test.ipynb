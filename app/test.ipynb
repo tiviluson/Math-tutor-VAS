{
 "cells": [
  {
   "cell_type": "code",
   "execution_count": null,
   "id": "e9ff418d",
   "metadata": {},
   "outputs": [
    {
     "name": "stderr",
     "output_type": "stream",
     "text": [
      "/Users/dna-tuananguyen/anaconda3/envs/booksage/lib/python3.11/site-packages/tqdm/auto.py:21: TqdmWarning: IProgress not found. Please update jupyter and ipywidgets. See https://ipywidgets.readthedocs.io/en/stable/user_install.html\n",
      "  from .autonotebook import tqdm as notebook_tqdm\n"
     ]
    },
    {
     "name": "stdout",
     "output_type": "stream",
     "text": [
      "gemini-2.5-flash-lite-preview-06-17\n",
      "Imagine a regular computer is like a light switch. It's either **on** (representing a 1) or **off** (representing a 0). This is called a **bit**.\n",
      "\n",
      "Quantum computers are different. They use something called **qubits**. Think of a qubit not just as an on/off switch, but as a **dimmer switch**.\n",
      "\n",
      "Here's where it gets interesting:\n",
      "\n",
      "*   **Superposition:** A dimmer switch can be fully on, fully off, or **anywhere in between**. A qubit can also be in a state of **superposition**, meaning it can be both 0 and 1 at the same time, or a combination of both. It's like the dimmer switch is partially on and partially off simultaneously.\n",
      "\n",
      "*   **Entanglement:** This is like having two dimmer switches that are magically linked. If you change one, the other instantly changes in a related way, no matter how far apart they are. This connection allows qubits to share information in a very powerful way.\n",
      "\n",
      "**Why is this powerful?**\n",
      "\n",
      "Because of these two properties, quantum computers can explore many possibilities **all at once**, instead of checking them one by one like a regular computer.\n",
      "\n",
      "Think about finding your way through a maze:\n",
      "\n",
      "*   **Regular Computer:** Tries one path at a time. If it's a dead end, it backtracks and tries another.\n",
      "*   **Quantum Computer:** Can explore **all the paths simultaneously**. It's like having the ability to see all the possibilities at once, dramatically speeding up the process of finding the right solution.\n",
      "\n",
      "**What can they be used for?**\n",
      "\n",
      "This \"all at once\" capability makes quantum computers potentially much better at solving certain types of complex problems that are impossible for even the most powerful regular computers today. These include:\n",
      "\n",
      "*   **Discovering new medicines and materials:** By simulating molecules and their interactions more accurately.\n",
      "*   **Breaking modern encryption:** (And also creating new, unbreakable encryption).\n",
      "*   **Optimizing complex systems:** Like logistics, financial modeling, or even traffic flow.\n",
      "*   **Advancing artificial intelligence:** By helping AI learn and process information more efficiently.\n",
      "\n",
      "**In short:**\n",
      "\n",
      "Quantum computers use qubits that can be **0, 1, or both at the same time (superposition)**, and can be **linked together in spooky ways (entanglement)**. This allows them to explore many solutions at once, making them incredibly powerful for solving very specific, complex problems that are beyond the reach of today's computers.\n",
      "\n",
      "It's like the difference between a calculator that can only do one math problem at a time, and a machine that can explore thousands of math problems simultaneously to find the best answer.\n"
     ]
    }
   ],
   "source": [
    "import google.generativeai as genai\n",
    "import os, dotenv\n",
    "dotenv.load_dotenv()\n",
    "\n",
    "genai.configure(api_key=os.getenv(\"GEMINI_API_KEY\"))\n",
    "\n",
    "model = genai.GenerativeModel(os.getenv(\"GEMINI_MODEL\"))\n",
    "\n",
    "prompt = \"Explain quantum computing in a simple way.\"\n",
    "response = model.generate_content(prompt)\n",
    "\n",
    "print(response.text)"
   ]
  },
  {
   "cell_type": "code",
   "execution_count": null,
   "id": "c2281760",
   "metadata": {},
   "outputs": [],
   "source": []
  }
 ],
 "metadata": {
  "kernelspec": {
   "display_name": "booksage",
   "language": "python",
   "name": "python3"
  },
  "language_info": {
   "codemirror_mode": {
    "name": "ipython",
    "version": 3
   },
   "file_extension": ".py",
   "mimetype": "text/x-python",
   "name": "python",
   "nbconvert_exporter": "python",
   "pygments_lexer": "ipython3",
   "version": "3.11.5"
  }
 },
 "nbformat": 4,
 "nbformat_minor": 5
}
